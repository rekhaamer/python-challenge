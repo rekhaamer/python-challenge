{
 "cells": [
  {
   "cell_type": "code",
   "execution_count": 1,
   "metadata": {},
   "outputs": [],
   "source": [
    "import os\n",
    "import csv"
   ]
  },
  {
   "cell_type": "code",
   "execution_count": 24,
   "metadata": {},
   "outputs": [],
   "source": [
    "PollFile=os.path.join('election_data_1.csv')\n",
    "countrow=0\n",
    "countVestal=0\n",
    "countTorres=0\n",
    "countSeth=0\n",
    "countCordin=0\n",
    "Winner=0"
   ]
  },
  {
   "cell_type": "code",
   "execution_count": 44,
   "metadata": {},
   "outputs": [
    {
     "name": "stdout",
     "output_type": "stream",
     "text": [
      "Election Results\n",
      "---------------------\n",
      "Total Voltes: 15257019\n",
      "---------------------\n",
      "Vestal:0.480%0.480%0.480%0.480%0.480%0.480%0.480%0.480%0.480%0.480%0.480%0.480%0.480%0.480%0.480%0.480%0.480%0.480%0.480%0.480%0.480%0.480%0.480%0.480%0.480%0.480%0.480%0.480%0.480%0.480%0.480%0.480%0.480%0.480%0.480%0.480%0.480%0.480%0.480%0.480%0.480%0.480%0.480%0.480%0.480%0.480%0.480%0.480%0.480%0.480%0.480%0.480%0.480%0.480%0.480%0.480%0.480%0.480%0.480%0.480%0.480%0.480%0.480%0.480%0.480%0.480%0.480%0.480%0.480%0.480%0.480%0.480%0.480%0.480%0.480%0.480%0.480%0.480%0.480%0.480%0.480%0.480%0.480%0.480%0.480%0.480%0.480%0.480%0.480%0.480%0.480%0.480%0.480%0.480%0.480%0.480%0.480%0.480%0.480%0.480%(7323360)\n",
      "Torres:0.4399994520554769(6713080)\n",
      "Seth:0.04999993773357692(762850)\n",
      "Cordin:0.029999962640146153(457710)\n",
      "---------------------\n",
      "Winner:\n",
      "---------------------\n"
     ]
    }
   ],
   "source": [
    "with open (PollFile, newline='') as File:\n",
    "    FileReader=csv.reader(File)\n",
    "    for row in FileReader:\n",
    "        Candidate=row[2]\n",
    "        countrow=countrow+1\n",
    "        if Candidate=='Vestal':\n",
    "            countVestal=countVestal+1\n",
    "        elif Candidate=='Torres':\n",
    "            countTorres=countTorres+1\n",
    "        elif Candidate=='Seth':\n",
    "            countSeth=countSeth+1\n",
    "        elif Candidate=='Cordin':\n",
    "            countCordin=countCordin+1\n",
    "    \n",
    "    VestalP=countVestal/countrow\n",
    "    print('Election Results')\n",
    "    print('---------------------')\n",
    "    print('Total Voltes: '+str(countrow))\n",
    "    print('---------------------')\n",
    "    print ('Vestal:'+str(\"{:.3f}%\".format(VestalP)*100)+'(' +str(countVestal)+')')\n",
    "    print ('Torres:'+str(countTorres/countrow)+'(' +str(countTorres)+')')\n",
    "    print ('Seth:'+str(countSeth/countrow)+'(' +str(countSeth)+')')\n",
    "    print ('Cordin:'+str(countCordin/countrow)+'(' +str(countCordin)+')')\n",
    "    print('---------------------')\n",
    "    print('Winner:')\n",
    "    print('---------------------')"
   ]
  },
  {
   "cell_type": "code",
   "execution_count": null,
   "metadata": {},
   "outputs": [],
   "source": []
  }
 ],
 "metadata": {
  "kernelspec": {
   "display_name": "Python 3",
   "language": "python",
   "name": "python3"
  },
  "language_info": {
   "codemirror_mode": {
    "name": "ipython",
    "version": 3
   },
   "file_extension": ".py",
   "mimetype": "text/x-python",
   "name": "python",
   "nbconvert_exporter": "python",
   "pygments_lexer": "ipython3",
   "version": "3.6.4"
  }
 },
 "nbformat": 4,
 "nbformat_minor": 2
}
