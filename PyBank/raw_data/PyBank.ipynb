{
 "cells": [
  {
   "cell_type": "code",
   "execution_count": 38,
   "metadata": {},
   "outputs": [],
   "source": [
    "import os\n",
    "import csv"
   ]
  },
  {
   "cell_type": "code",
   "execution_count": 52,
   "metadata": {},
   "outputs": [],
   "source": [
    "BankFile1=os.path.join('budget_data_1.csv')\n",
    "BankFile2=os.path.join('budget_data_2.csv')\n",
    "countrow=0\n",
    "Revenue =0"
   ]
  },
  {
   "cell_type": "code",
   "execution_count": null,
   "metadata": {},
   "outputs": [],
   "source": [
    "'with open (BankFile1,'r')as Reading:\n",
    "  '  lines=Reading.read()\n",
    "   ' print(lines)\n",
    "    'print(type(lines))"
   ]
  },
  {
   "cell_type": "code",
   "execution_count": 58,
   "metadata": {
    "scrolled": false
   },
   "outputs": [
    {
     "name": "stdout",
     "output_type": "stream",
     "text": [
      "883934\n",
      "<class 'int'>\n"
     ]
    }
   ],
   "source": [
    "with open (BankFile1, newline='') as File:\n",
    "    FileReader=csv.reader(File, delimiter=',')\n",
    "    next(FileReader)\n",
    "    for row in FileReader:\n",
    "        Revenue=(row[1])\n",
    "        Revenue=int(Revenue)\n",
    "        countrow=countrow+1\n",
    "    print(Revenue)\n",
    "    print (type(Revenue))"
   ]
  },
  {
   "cell_type": "code",
   "execution_count": 46,
   "metadata": {
    "scrolled": false
   },
   "outputs": [
    {
     "name": "stdout",
     "output_type": "stream",
     "text": [
      "883934\n",
      "<class 'int'>\n"
     ]
    }
   ],
   "source": [
    "Revenue=int(Revenue)\n",
    "print(Revenue)\n",
    "print (type(Revenue))"
   ]
  },
  {
   "cell_type": "code",
   "execution_count": null,
   "metadata": {},
   "outputs": [],
   "source": []
  }
 ],
 "metadata": {
  "kernelspec": {
   "display_name": "Python 3",
   "language": "python",
   "name": "python3"
  },
  "language_info": {
   "codemirror_mode": {
    "name": "ipython",
    "version": 3
   },
   "file_extension": ".py",
   "mimetype": "text/x-python",
   "name": "python",
   "nbconvert_exporter": "python",
   "pygments_lexer": "ipython3",
   "version": "3.6.4"
  }
 },
 "nbformat": 4,
 "nbformat_minor": 2
}
