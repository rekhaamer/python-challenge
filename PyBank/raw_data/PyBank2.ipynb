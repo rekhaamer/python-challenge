{
 "cells": [
  {
   "cell_type": "code",
   "execution_count": 1,
   "metadata": {},
   "outputs": [],
   "source": [
    "import os\n",
    "import csv\n",
    "import pandas as pd"
   ]
  },
  {
   "cell_type": "code",
   "execution_count": 2,
   "metadata": {},
   "outputs": [
    {
     "data": {
      "text/html": [
       "<div>\n",
       "<style scoped>\n",
       "    .dataframe tbody tr th:only-of-type {\n",
       "        vertical-align: middle;\n",
       "    }\n",
       "\n",
       "    .dataframe tbody tr th {\n",
       "        vertical-align: top;\n",
       "    }\n",
       "\n",
       "    .dataframe thead th {\n",
       "        text-align: right;\n",
       "    }\n",
       "</style>\n",
       "<table border=\"1\" class=\"dataframe\">\n",
       "  <thead>\n",
       "    <tr style=\"text-align: right;\">\n",
       "      <th></th>\n",
       "      <th>Date</th>\n",
       "      <th>Revenue</th>\n",
       "    </tr>\n",
       "  </thead>\n",
       "  <tbody>\n",
       "    <tr>\n",
       "      <th>0</th>\n",
       "      <td>Oct-12</td>\n",
       "      <td>1154293</td>\n",
       "    </tr>\n",
       "    <tr>\n",
       "      <th>1</th>\n",
       "      <td>Nov-12</td>\n",
       "      <td>885773</td>\n",
       "    </tr>\n",
       "    <tr>\n",
       "      <th>2</th>\n",
       "      <td>Dec-12</td>\n",
       "      <td>-448704</td>\n",
       "    </tr>\n",
       "    <tr>\n",
       "      <th>3</th>\n",
       "      <td>Jan-13</td>\n",
       "      <td>563679</td>\n",
       "    </tr>\n",
       "    <tr>\n",
       "      <th>4</th>\n",
       "      <td>Feb-13</td>\n",
       "      <td>555394</td>\n",
       "    </tr>\n",
       "  </tbody>\n",
       "</table>\n",
       "</div>"
      ],
      "text/plain": [
       "     Date  Revenue\n",
       "0  Oct-12  1154293\n",
       "1  Nov-12   885773\n",
       "2  Dec-12  -448704\n",
       "3  Jan-13   563679\n",
       "4  Feb-13   555394"
      ]
     },
     "execution_count": 2,
     "metadata": {},
     "output_type": "execute_result"
    }
   ],
   "source": [
    "BankFile=os.path.join('budget_data_1.csv')\n",
    "reader= pd.read_csv(BankFile)\n",
    "reader.head()"
   ]
  },
  {
   "cell_type": "code",
   "execution_count": 3,
   "metadata": {},
   "outputs": [
    {
     "name": "stdout",
     "output_type": "stream",
     "text": [
      "Total Months: 41\n"
     ]
    }
   ],
   "source": [
    "totalMonths=reader['Date'].count()\n",
    "print('Total Months: '+str(totalMonths))\n"
   ]
  },
  {
   "cell_type": "code",
   "execution_count": 4,
   "metadata": {},
   "outputs": [
    {
     "name": "stdout",
     "output_type": "stream",
     "text": [
      "Total Revenue: 18971412\n"
     ]
    }
   ],
   "source": [
    "totalRevenue=reader['Revenue'].sum()\n",
    "print('Total Revenue: '+str(totalRevenue))"
   ]
  },
  {
   "cell_type": "code",
   "execution_count": 6,
   "metadata": {},
   "outputs": [
    {
     "name": "stdout",
     "output_type": "stream",
     "text": [
      "Total Months: 41\n",
      "Total Revenue: 18971412\n",
      "Average Revenue Change:44810.60975609756\n",
      "Greatest Increase in Revenue:  Feb-16 1837235\n",
      "Greatest Decrease in Revenue:  Aug-14 -1779747\n"
     ]
    }
   ],
   "source": [
    "with open (BankFile, newline='') as File:\n",
    "    FileReader=csv.reader(File, delimiter=',')\n",
    "    next(FileReader)\n",
    "    countrow=0\n",
    "    Prv_revenue=0\n",
    "    change_lst=[]\n",
    "    greatest_increase=0\n",
    "    greatest_increase_date=\"\"\n",
    "    greatest_decrease=0\n",
    "    greatest_decrease_date=''\n",
    "    for row in FileReader:\n",
    "        value=int(row[1])\n",
    "        Date=row[0]\n",
    "        change=value - Prv_revenue\n",
    "        Prv_revenue=value\n",
    "        change_lst = change\n",
    "        countrow=countrow+1\n",
    "        if (change_lst > greatest_increase):\n",
    "            greatest_increase=change_lst\n",
    "            greatest_increase_date=Date\n",
    "        \n",
    "        if (change_lst < greatest_decrease):\n",
    "            greatest_decrease=change_lst\n",
    "            greatest_decrease_date=Date    \n",
    "        \n",
    "    \n",
    "    \n",
    "    print('Total Months:',  countrow)\n",
    "    print('Total Revenue: '+str(totalRevenue))\n",
    "    totalavg=(change_lst)/countrow\n",
    "    print('Average Revenue Change:'+str(totalavg))\n",
    "    print('Greatest Increase in Revenue: ', greatest_increase_date,greatest_increase)\n",
    "    print('Greatest Decrease in Revenue: ',greatest_decrease_date,greatest_decrease)\n",
    "    "
   ]
  },
  {
   "cell_type": "code",
   "execution_count": 9,
   "metadata": {},
   "outputs": [],
   "source": [
    "output_path = os.path.join( \"BankResults.csv\")\n",
    "with open(output_path, 'w', newline='') as csvfile:\n",
    "    csvwriter = csv.writer(csvfile, delimiter=',')\n",
    "    csvwriter.writerow(['Total Months:',  countrow])\n",
    "    csvwriter.writerow(['Total Revenue:', totalRevenue])\n",
    "    csvwriter.writerow(['Average Revenue Change:',totalavg])\n",
    "    csvwriter.writerow(['Greatest Increase in Revenue: ', greatest_increase_date,greatest_increase])\n",
    "    csvwriter.writerow(['Greatest Decrease in Revenue: ',greatest_decrease_date,greatest_decrease])\n",
    "   "
   ]
  },
  {
   "cell_type": "code",
   "execution_count": null,
   "metadata": {},
   "outputs": [],
   "source": []
  }
 ],
 "metadata": {
  "kernelspec": {
   "display_name": "Python 3",
   "language": "python",
   "name": "python3"
  },
  "language_info": {
   "codemirror_mode": {
    "name": "ipython",
    "version": 3
   },
   "file_extension": ".py",
   "mimetype": "text/x-python",
   "name": "python",
   "nbconvert_exporter": "python",
   "pygments_lexer": "ipython3",
   "version": "3.6.4"
  }
 },
 "nbformat": 4,
 "nbformat_minor": 2
}
